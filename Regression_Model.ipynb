{
  "nbformat": 4,
  "nbformat_minor": 0,
  "metadata": {
    "colab": {
      "provenance": [],
      "authorship_tag": "ABX9TyPMnCHh9xAYUql0l5pMKFKy",
      "include_colab_link": true
    },
    "kernelspec": {
      "name": "python3",
      "display_name": "Python 3"
    },
    "language_info": {
      "name": "python"
    }
  },
  "cells": [
    {
      "cell_type": "markdown",
      "metadata": {
        "id": "view-in-github",
        "colab_type": "text"
      },
      "source": [
        "<a href=\"https://colab.research.google.com/github/vivorima/Keras-RegressionModel/blob/main/Regression_Model.ipynb\" target=\"_parent\"><img src=\"https://colab.research.google.com/assets/colab-badge.svg\" alt=\"Open In Colab\"/></a>"
      ]
    },
    {
      "cell_type": "code",
      "execution_count": null,
      "metadata": {
        "id": "cE5-t_BCNKJa"
      },
      "outputs": [],
      "source": [
        "import pandas as pd\n",
        "import numpy as np\n",
        "from sklearn.model_selection import train_test_split\n",
        "from sklearn.preprocessing import StandardScaler\n",
        "from keras.models import Sequential\n",
        "from keras.layers import Dense\n"
      ]
    },
    {
      "cell_type": "markdown",
      "source": [
        "# LOADING DATA SET FROM LAB 3"
      ],
      "metadata": {
        "id": "Un8bNjr0NaJ9"
      }
    },
    {
      "cell_type": "code",
      "source": [
        "# Load the data\n",
        "url = \"https://cocl.us/concrete_data\"\n",
        "concrete_data = pd.read_csv(url)"
      ],
      "metadata": {
        "id": "unuHWRNlNNTl"
      },
      "execution_count": null,
      "outputs": []
    },
    {
      "cell_type": "markdown",
      "source": [
        "# Pre Processing the data"
      ],
      "metadata": {
        "id": "6DEZV6pQRoit"
      }
    },
    {
      "cell_type": "code",
      "source": [
        "# split data into predictors and target\n",
        "predictors = concrete_data.drop(columns=['Strength'])\n",
        "target = concrete_data['Strength']\n",
        "\n",
        "# Normalizing the data\n",
        "predictors = (predictors - predictors.mean()) / predictors.std()\n",
        "predictors.head()\n",
        "\n",
        "# Split the data into training and testing sets\n",
        "X_train, X_test, Y_train, Y_test = train_test_split(predictors, target, test_size=0.3s, random_state=42)"
      ],
      "metadata": {
        "id": "6WxkZr8eNMXr"
      },
      "execution_count": null,
      "outputs": []
    },
    {
      "cell_type": "markdown",
      "source": [
        "# Creating the model"
      ],
      "metadata": {
        "id": "CGfSiyWERu2D"
      }
    },
    {
      "cell_type": "code",
      "source": [
        "# Function to build the regression model\n",
        "def build_regression_model():\n",
        "    model = Sequential()\n",
        "    model.add(Dense(50, activation='relu', input_shape=(X_train.shape[1],)))\n",
        "    model.add(Dense(40, activation='relu'))\n",
        "    model.add(Dense(30, activation='relu'))\n",
        "    model.add(Dense(20, activation='relu'))\n",
        "    model.add(Dense(10, activation='relu'))\n",
        "    model.add(Dense(1))  # Output layer with one neuron for regression\n",
        "\n",
        "    model.compile(optimizer='adam', loss='mean_squared_error')\n",
        "    return model\n",
        "\n",
        "# Build the model\n",
        "regression_model = build_regression_model()\n"
      ],
      "metadata": {
        "id": "mYBSWDwcNS1z"
      },
      "execution_count": null,
      "outputs": []
    },
    {
      "cell_type": "markdown",
      "source": [
        "# Lets Train"
      ],
      "metadata": {
        "id": "abTtrIDvRyFq"
      }
    },
    {
      "cell_type": "code",
      "source": [
        "# Train the model\n",
        "epochs = 50\n",
        "regression_model.fit(X_train, Y_train, validation_split=0.3, epochs=epochs, verbose=2)\n"
      ],
      "metadata": {
        "colab": {
          "base_uri": "https://localhost:8080/"
        },
        "id": "Z0L93jcSNU5y",
        "outputId": "379f06f8-0df4-4ac5-fd72-2866b0d789f5"
      },
      "execution_count": null,
      "outputs": [
        {
          "output_type": "stream",
          "name": "stdout",
          "text": [
            "Epoch 1/100\n",
            "18/18 - 1s - loss: 1592.0863 - val_loss: 1498.7896 - 1s/epoch - 72ms/step\n",
            "Epoch 2/100\n",
            "18/18 - 0s - loss: 1545.2554 - val_loss: 1422.2197 - 91ms/epoch - 5ms/step\n",
            "Epoch 3/100\n",
            "18/18 - 0s - loss: 1387.5629 - val_loss: 1167.9231 - 99ms/epoch - 5ms/step\n",
            "Epoch 4/100\n",
            "18/18 - 0s - loss: 924.8083 - val_loss: 517.9228 - 88ms/epoch - 5ms/step\n",
            "Epoch 5/100\n",
            "18/18 - 0s - loss: 330.6250 - val_loss: 233.2191 - 91ms/epoch - 5ms/step\n",
            "Epoch 6/100\n",
            "18/18 - 0s - loss: 244.8351 - val_loss: 208.9980 - 96ms/epoch - 5ms/step\n",
            "Epoch 7/100\n",
            "18/18 - 0s - loss: 212.6512 - val_loss: 190.9816 - 88ms/epoch - 5ms/step\n",
            "Epoch 8/100\n",
            "18/18 - 0s - loss: 201.5236 - val_loss: 186.9897 - 83ms/epoch - 5ms/step\n",
            "Epoch 9/100\n",
            "18/18 - 0s - loss: 191.9214 - val_loss: 183.2716 - 80ms/epoch - 4ms/step\n",
            "Epoch 10/100\n",
            "18/18 - 0s - loss: 184.4176 - val_loss: 174.9300 - 79ms/epoch - 4ms/step\n",
            "Epoch 11/100\n",
            "18/18 - 0s - loss: 178.7740 - val_loss: 169.7871 - 84ms/epoch - 5ms/step\n",
            "Epoch 12/100\n",
            "18/18 - 0s - loss: 171.1987 - val_loss: 164.2633 - 83ms/epoch - 5ms/step\n",
            "Epoch 13/100\n",
            "18/18 - 0s - loss: 166.7400 - val_loss: 160.0516 - 93ms/epoch - 5ms/step\n",
            "Epoch 14/100\n",
            "18/18 - 0s - loss: 159.9990 - val_loss: 154.4821 - 81ms/epoch - 5ms/step\n",
            "Epoch 15/100\n",
            "18/18 - 0s - loss: 156.3853 - val_loss: 154.1543 - 99ms/epoch - 5ms/step\n",
            "Epoch 16/100\n",
            "18/18 - 0s - loss: 149.7944 - val_loss: 147.3383 - 78ms/epoch - 4ms/step\n",
            "Epoch 17/100\n",
            "18/18 - 0s - loss: 145.1263 - val_loss: 141.7078 - 89ms/epoch - 5ms/step\n",
            "Epoch 18/100\n",
            "18/18 - 0s - loss: 138.4081 - val_loss: 136.8167 - 88ms/epoch - 5ms/step\n",
            "Epoch 19/100\n",
            "18/18 - 0s - loss: 134.2983 - val_loss: 134.7077 - 98ms/epoch - 5ms/step\n",
            "Epoch 20/100\n",
            "18/18 - 0s - loss: 127.3869 - val_loss: 125.9308 - 86ms/epoch - 5ms/step\n",
            "Epoch 21/100\n",
            "18/18 - 0s - loss: 122.1673 - val_loss: 121.7928 - 83ms/epoch - 5ms/step\n",
            "Epoch 22/100\n",
            "18/18 - 0s - loss: 114.9258 - val_loss: 115.1872 - 83ms/epoch - 5ms/step\n",
            "Epoch 23/100\n",
            "18/18 - 0s - loss: 109.4142 - val_loss: 110.6588 - 85ms/epoch - 5ms/step\n",
            "Epoch 24/100\n",
            "18/18 - 0s - loss: 103.5211 - val_loss: 105.2995 - 113ms/epoch - 6ms/step\n",
            "Epoch 25/100\n",
            "18/18 - 0s - loss: 98.4954 - val_loss: 101.1729 - 85ms/epoch - 5ms/step\n",
            "Epoch 26/100\n",
            "18/18 - 0s - loss: 94.6725 - val_loss: 94.8518 - 86ms/epoch - 5ms/step\n",
            "Epoch 27/100\n",
            "18/18 - 0s - loss: 87.7816 - val_loss: 90.1964 - 91ms/epoch - 5ms/step\n",
            "Epoch 28/100\n",
            "18/18 - 0s - loss: 84.8136 - val_loss: 85.1424 - 83ms/epoch - 5ms/step\n",
            "Epoch 29/100\n",
            "18/18 - 0s - loss: 78.8980 - val_loss: 80.2816 - 87ms/epoch - 5ms/step\n",
            "Epoch 30/100\n",
            "18/18 - 0s - loss: 75.4860 - val_loss: 77.5409 - 74ms/epoch - 4ms/step\n",
            "Epoch 31/100\n",
            "18/18 - 0s - loss: 71.2788 - val_loss: 72.3982 - 72ms/epoch - 4ms/step\n",
            "Epoch 32/100\n",
            "18/18 - 0s - loss: 67.5564 - val_loss: 70.3580 - 87ms/epoch - 5ms/step\n",
            "Epoch 33/100\n",
            "18/18 - 0s - loss: 62.9852 - val_loss: 67.0612 - 83ms/epoch - 5ms/step\n",
            "Epoch 34/100\n",
            "18/18 - 0s - loss: 59.8001 - val_loss: 63.5886 - 71ms/epoch - 4ms/step\n",
            "Epoch 35/100\n",
            "18/18 - 0s - loss: 57.3309 - val_loss: 61.5678 - 138ms/epoch - 8ms/step\n",
            "Epoch 36/100\n",
            "18/18 - 0s - loss: 54.0713 - val_loss: 58.9798 - 123ms/epoch - 7ms/step\n",
            "Epoch 37/100\n",
            "18/18 - 0s - loss: 51.2170 - val_loss: 62.5031 - 117ms/epoch - 6ms/step\n",
            "Epoch 38/100\n",
            "18/18 - 0s - loss: 51.9664 - val_loss: 57.5683 - 126ms/epoch - 7ms/step\n",
            "Epoch 39/100\n",
            "18/18 - 0s - loss: 48.9106 - val_loss: 53.7710 - 119ms/epoch - 7ms/step\n",
            "Epoch 40/100\n",
            "18/18 - 0s - loss: 45.8799 - val_loss: 52.0432 - 118ms/epoch - 7ms/step\n",
            "Epoch 41/100\n",
            "18/18 - 0s - loss: 44.8323 - val_loss: 49.6630 - 116ms/epoch - 6ms/step\n",
            "Epoch 42/100\n",
            "18/18 - 0s - loss: 43.1734 - val_loss: 49.1112 - 123ms/epoch - 7ms/step\n",
            "Epoch 43/100\n",
            "18/18 - 0s - loss: 40.6015 - val_loss: 46.8984 - 135ms/epoch - 7ms/step\n",
            "Epoch 44/100\n",
            "18/18 - 0s - loss: 39.3988 - val_loss: 47.3464 - 137ms/epoch - 8ms/step\n",
            "Epoch 45/100\n",
            "18/18 - 0s - loss: 38.1938 - val_loss: 45.5513 - 134ms/epoch - 7ms/step\n",
            "Epoch 46/100\n",
            "18/18 - 0s - loss: 36.6557 - val_loss: 44.7851 - 133ms/epoch - 7ms/step\n",
            "Epoch 47/100\n",
            "18/18 - 0s - loss: 36.4830 - val_loss: 45.0471 - 113ms/epoch - 6ms/step\n",
            "Epoch 48/100\n",
            "18/18 - 0s - loss: 34.6994 - val_loss: 42.8880 - 101ms/epoch - 6ms/step\n",
            "Epoch 49/100\n",
            "18/18 - 0s - loss: 34.1249 - val_loss: 44.8338 - 106ms/epoch - 6ms/step\n",
            "Epoch 50/100\n",
            "18/18 - 0s - loss: 32.8018 - val_loss: 41.1610 - 113ms/epoch - 6ms/step\n",
            "Epoch 51/100\n",
            "18/18 - 0s - loss: 31.6820 - val_loss: 42.4321 - 114ms/epoch - 6ms/step\n",
            "Epoch 52/100\n",
            "18/18 - 0s - loss: 31.4189 - val_loss: 41.2324 - 128ms/epoch - 7ms/step\n",
            "Epoch 53/100\n",
            "18/18 - 0s - loss: 29.3140 - val_loss: 39.9626 - 114ms/epoch - 6ms/step\n",
            "Epoch 54/100\n",
            "18/18 - 0s - loss: 30.4072 - val_loss: 43.4338 - 113ms/epoch - 6ms/step\n",
            "Epoch 55/100\n",
            "18/18 - 0s - loss: 28.9476 - val_loss: 39.8083 - 139ms/epoch - 8ms/step\n",
            "Epoch 56/100\n",
            "18/18 - 0s - loss: 27.7678 - val_loss: 41.7653 - 106ms/epoch - 6ms/step\n",
            "Epoch 57/100\n",
            "18/18 - 0s - loss: 27.6280 - val_loss: 39.0495 - 108ms/epoch - 6ms/step\n",
            "Epoch 58/100\n",
            "18/18 - 0s - loss: 26.5049 - val_loss: 41.8575 - 104ms/epoch - 6ms/step\n",
            "Epoch 59/100\n",
            "18/18 - 0s - loss: 26.2656 - val_loss: 40.0965 - 107ms/epoch - 6ms/step\n",
            "Epoch 60/100\n",
            "18/18 - 0s - loss: 25.1948 - val_loss: 38.9190 - 109ms/epoch - 6ms/step\n",
            "Epoch 61/100\n",
            "18/18 - 0s - loss: 24.8196 - val_loss: 37.7976 - 111ms/epoch - 6ms/step\n",
            "Epoch 62/100\n",
            "18/18 - 0s - loss: 24.1760 - val_loss: 39.2104 - 106ms/epoch - 6ms/step\n",
            "Epoch 63/100\n",
            "18/18 - 0s - loss: 23.0681 - val_loss: 37.5952 - 101ms/epoch - 6ms/step\n",
            "Epoch 64/100\n",
            "18/18 - 0s - loss: 22.8058 - val_loss: 40.0220 - 125ms/epoch - 7ms/step\n",
            "Epoch 65/100\n",
            "18/18 - 0s - loss: 22.6156 - val_loss: 39.6320 - 115ms/epoch - 6ms/step\n",
            "Epoch 66/100\n",
            "18/18 - 0s - loss: 22.4029 - val_loss: 37.4786 - 115ms/epoch - 6ms/step\n",
            "Epoch 67/100\n",
            "18/18 - 0s - loss: 22.4036 - val_loss: 37.3649 - 100ms/epoch - 6ms/step\n",
            "Epoch 68/100\n",
            "18/18 - 0s - loss: 21.2440 - val_loss: 38.2759 - 108ms/epoch - 6ms/step\n",
            "Epoch 69/100\n",
            "18/18 - 0s - loss: 20.4892 - val_loss: 37.0862 - 102ms/epoch - 6ms/step\n",
            "Epoch 70/100\n",
            "18/18 - 0s - loss: 20.7753 - val_loss: 39.1161 - 130ms/epoch - 7ms/step\n",
            "Epoch 71/100\n",
            "18/18 - 0s - loss: 20.8125 - val_loss: 40.0425 - 116ms/epoch - 6ms/step\n",
            "Epoch 72/100\n",
            "18/18 - 0s - loss: 22.5604 - val_loss: 36.4834 - 80ms/epoch - 4ms/step\n",
            "Epoch 73/100\n",
            "18/18 - 0s - loss: 22.0686 - val_loss: 39.5176 - 71ms/epoch - 4ms/step\n",
            "Epoch 74/100\n",
            "18/18 - 0s - loss: 20.2034 - val_loss: 36.8020 - 83ms/epoch - 5ms/step\n",
            "Epoch 75/100\n",
            "18/18 - 0s - loss: 18.6368 - val_loss: 37.6946 - 78ms/epoch - 4ms/step\n",
            "Epoch 76/100\n",
            "18/18 - 0s - loss: 18.5989 - val_loss: 37.6505 - 85ms/epoch - 5ms/step\n",
            "Epoch 77/100\n",
            "18/18 - 0s - loss: 18.4191 - val_loss: 37.4849 - 73ms/epoch - 4ms/step\n",
            "Epoch 78/100\n",
            "18/18 - 0s - loss: 18.2885 - val_loss: 37.5618 - 84ms/epoch - 5ms/step\n",
            "Epoch 79/100\n",
            "18/18 - 0s - loss: 17.7812 - val_loss: 37.4298 - 89ms/epoch - 5ms/step\n",
            "Epoch 80/100\n",
            "18/18 - 0s - loss: 17.4281 - val_loss: 37.1277 - 75ms/epoch - 4ms/step\n",
            "Epoch 81/100\n",
            "18/18 - 0s - loss: 18.5148 - val_loss: 35.8772 - 79ms/epoch - 4ms/step\n",
            "Epoch 82/100\n",
            "18/18 - 0s - loss: 17.1299 - val_loss: 37.8238 - 93ms/epoch - 5ms/step\n",
            "Epoch 83/100\n",
            "18/18 - 0s - loss: 16.9896 - val_loss: 36.2954 - 82ms/epoch - 5ms/step\n",
            "Epoch 84/100\n",
            "18/18 - 0s - loss: 16.9281 - val_loss: 35.5626 - 93ms/epoch - 5ms/step\n",
            "Epoch 85/100\n",
            "18/18 - 0s - loss: 16.7357 - val_loss: 36.1156 - 75ms/epoch - 4ms/step\n",
            "Epoch 86/100\n",
            "18/18 - 0s - loss: 16.2908 - val_loss: 35.1654 - 81ms/epoch - 5ms/step\n",
            "Epoch 87/100\n",
            "18/18 - 0s - loss: 16.5801 - val_loss: 37.3980 - 80ms/epoch - 4ms/step\n",
            "Epoch 88/100\n",
            "18/18 - 0s - loss: 16.8281 - val_loss: 35.5463 - 89ms/epoch - 5ms/step\n",
            "Epoch 89/100\n",
            "18/18 - 0s - loss: 15.4860 - val_loss: 34.8657 - 71ms/epoch - 4ms/step\n",
            "Epoch 90/100\n",
            "18/18 - 0s - loss: 15.3798 - val_loss: 35.1762 - 86ms/epoch - 5ms/step\n",
            "Epoch 91/100\n",
            "18/18 - 0s - loss: 15.0077 - val_loss: 34.8704 - 92ms/epoch - 5ms/step\n",
            "Epoch 92/100\n",
            "18/18 - 0s - loss: 14.9640 - val_loss: 35.2487 - 74ms/epoch - 4ms/step\n",
            "Epoch 93/100\n",
            "18/18 - 0s - loss: 14.5057 - val_loss: 35.1080 - 76ms/epoch - 4ms/step\n",
            "Epoch 94/100\n",
            "18/18 - 0s - loss: 15.1408 - val_loss: 35.3055 - 84ms/epoch - 5ms/step\n",
            "Epoch 95/100\n",
            "18/18 - 0s - loss: 14.6205 - val_loss: 35.6381 - 70ms/epoch - 4ms/step\n",
            "Epoch 96/100\n",
            "18/18 - 0s - loss: 14.7298 - val_loss: 33.8298 - 87ms/epoch - 5ms/step\n",
            "Epoch 97/100\n",
            "18/18 - 0s - loss: 14.0795 - val_loss: 35.1750 - 83ms/epoch - 5ms/step\n",
            "Epoch 98/100\n",
            "18/18 - 0s - loss: 14.1129 - val_loss: 34.8886 - 83ms/epoch - 5ms/step\n",
            "Epoch 99/100\n",
            "18/18 - 0s - loss: 14.8274 - val_loss: 34.4758 - 86ms/epoch - 5ms/step\n",
            "Epoch 100/100\n",
            "18/18 - 0s - loss: 14.1136 - val_loss: 35.5502 - 83ms/epoch - 5ms/step\n"
          ]
        },
        {
          "output_type": "execute_result",
          "data": {
            "text/plain": [
              "<keras.src.callbacks.History at 0x7f4db5d1bd30>"
            ]
          },
          "metadata": {},
          "execution_count": 18
        }
      ]
    },
    {
      "cell_type": "markdown",
      "source": [
        "# Since we have test data, let's evaluate"
      ],
      "metadata": {
        "id": "AQi0QKztR2FT"
      }
    },
    {
      "cell_type": "code",
      "source": [
        "# Evaluate the model\n",
        "loss = regression_model.evaluate(X_test, Y_test)\n",
        "print(f\"Mean Squared Error on Test Data: {loss}\")"
      ],
      "metadata": {
        "colab": {
          "base_uri": "https://localhost:8080/"
        },
        "id": "qDLf1kWGNWsI",
        "outputId": "a86b26cc-882c-4e5c-cfc5-f28357b0b3de"
      },
      "execution_count": null,
      "outputs": [
        {
          "output_type": "stream",
          "name": "stdout",
          "text": [
            "7/7 [==============================] - 0s 3ms/step - loss: 51.2153\n",
            "Mean Squared Error on Test Data: 51.21529006958008\n"
          ]
        }
      ]
    }
  ]
}